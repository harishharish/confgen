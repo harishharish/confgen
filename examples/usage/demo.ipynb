{
 "cells": [
  {
   "cell_type": "markdown",
   "metadata": {},
   "source": [
    "# A demo notebook"
   ]
  },
  {
   "cell_type": "markdown",
   "metadata": {},
   "source": [
    "## Add local project directory to path"
   ]
  },
  {
   "cell_type": "code",
   "execution_count": null,
   "metadata": {},
   "outputs": [],
   "source": [
    "import sys\n",
    "import os\n",
    "\n",
    "# Get the absolute path of the project root (where the src folder is)\n",
    "project_root = os.path.abspath(os.path.join(os.getcwd(), \"../..\"))\n",
    "src_path = os.path.join(project_root, \"src\")\n",
    "\n",
    "# Add the src folder to sys.path\n",
    "if src_path not in sys.path:\n",
    "    sys.path.append(src_path)"
   ]
  },
  {
   "cell_type": "code",
   "execution_count": null,
   "metadata": {},
   "outputs": [],
   "source": [
    "%load_ext autoreload\n",
    "%autoreload 2\n",
    "from confgen import example_function\n",
    "from confgen.io.reader.sdf import sdf_to_mol_list\n",
    "from confgen.widgets.mol_visulization import draw_overlapped_mols"
   ]
  },
  {
   "cell_type": "markdown",
   "metadata": {},
   "source": [
    "This is an example of using a notebook to build documentation.  See for example {meth}`~confgen.example_function`"
   ]
  },
  {
   "cell_type": "code",
   "execution_count": null,
   "metadata": {},
   "outputs": [],
   "source": [
    "import subprocess\n",
    "import re\n",
    "\n",
    "import rdkit\n",
    "from rdkit import Chem\n",
    "from rdkit.Chem import AllChem\n",
    "from rdkit.Chem.Draw import IPythonConsole\n",
    "IPythonConsole.ipython_3d=True\n",
    "from pathlib import Path\n",
    "from jsme_notebook import JSMENotebook\n",
    "\n",
    "IPythonConsole.drawOptions.addAtomIndices = True\n",
    "IPythonConsole.drawOptions.annotationFontScale = 1\n",
    "IPythonConsole.molSize = 300,300\n",
    "\n",
    "import numpy as np\n",
    "import py3Dmol"
   ]
  },
  {
   "cell_type": "code",
   "execution_count": null,
   "metadata": {},
   "outputs": [],
   "source": [
    "jsme = JSMENotebook()"
   ]
  },
  {
   "cell_type": "code",
   "execution_count": null,
   "metadata": {},
   "outputs": [],
   "source": [
    "smiles=\"CCCCC\""
   ]
  },
  {
   "cell_type": "code",
   "execution_count": null,
   "metadata": {},
   "outputs": [],
   "source": [
    "mol = Chem.MolFromSmiles(smiles)\n",
    "print(f\"Coordinates:{\"3D\" if (mol.GetNumConformers() > 0 and mol.GetConformer().Is3D() == True) else \"2D\"}, Number of Conformers: {mol.GetNumConformers()}\")\n",
    "mol"
   ]
  },
  {
   "cell_type": "markdown",
   "metadata": {},
   "source": [
    "# Generate Conformers\n",
    "## Add Hydrogens"
   ]
  },
  {
   "cell_type": "code",
   "execution_count": null,
   "metadata": {},
   "outputs": [],
   "source": [
    "mol = Chem.MolFromSmiles(smiles)\n",
    "mol = AllChem.AddHs(mol)\n",
    "print(f\"Coordinates:{\"3D\" if (mol.GetNumConformers() > 0 and mol.GetConformer().Is3D() == True) else \"2D\"}, Number of Conformers: {mol.GetNumConformers()}\")\n",
    "mol"
   ]
  },
  {
   "cell_type": "markdown",
   "metadata": {},
   "source": [
    "## Generate Conformers"
   ]
  },
  {
   "cell_type": "code",
   "execution_count": null,
   "metadata": {},
   "outputs": [],
   "source": [
    "%timeit AllChem.EmbedMultipleConfs(mol, numConfs=100,  maxAttempts=20000, pruneRmsThresh=0.2, randomSeed=0xf00d, numThreads=8)\n",
    "print(f\"Number of Conformers: {mol.GetNumConformers()}\")"
   ]
  },
  {
   "cell_type": "code",
   "execution_count": null,
   "metadata": {},
   "outputs": [],
   "source": [
    "mol"
   ]
  },
  {
   "cell_type": "markdown",
   "metadata": {},
   "source": [
    "## Optimized conformers using MMFF (Optional)"
   ]
  },
  {
   "cell_type": "code",
   "execution_count": null,
   "metadata": {},
   "outputs": [],
   "source": [
    "AllChem.MMFFOptimizeMolecule(mol)\n",
    "print(f\"Coordinates:{\"3D\" if (mol.GetNumConformers() > 0 and mol.GetConformer().Is3D() == True) else \"2D\"}, Number of Conformers: {mol.GetNumConformers()}\")\n",
    "mol"
   ]
  },
  {
   "cell_type": "markdown",
   "metadata": {},
   "source": [
    "## Write conformers to sdf file\n",
    "<div class=\"alert alert-block alert-info\">\n",
    "    <p>Change <b>filename</b> below to reflect the name of molecule</p>\n",
    "</div>"
   ]
  },
  {
   "cell_type": "code",
   "execution_count": null,
   "metadata": {},
   "outputs": [],
   "source": [
    "filename='pentane.sdf'"
   ]
  },
  {
   "cell_type": "code",
   "execution_count": null,
   "metadata": {},
   "outputs": [],
   "source": [
    "with Chem.SDWriter(filename) as w:\n",
    "    cp_mol = Chem.Mol(mol)\n",
    "    for conf in mol.GetConformers():\n",
    "        cp_mol.SetProp(\"Conf_ID\",str(conf.GetId()))\n",
    "        w.write(cp_mol, confId=conf.GetId())"
   ]
  },
  {
   "cell_type": "markdown",
   "metadata": {},
   "source": [
    "# Optimized conformer using xTB"
   ]
  },
  {
   "cell_type": "markdown",
   "metadata": {},
   "source": [
    "## Read Conformers as RDKit Mol List"
   ]
  },
  {
   "cell_type": "code",
   "execution_count": null,
   "metadata": {},
   "outputs": [],
   "source": [
    "mol_list = []\n",
    "# Path to your SDF file\n",
    "input_sdf_path = Path.cwd().joinpath(filename)\n",
    "# Read input SDF File\n",
    "mol_list = sdf_to_mol_list(input_sdf_path)"
   ]
  },
  {
   "cell_type": "code",
   "execution_count": null,
   "metadata": {},
   "outputs": [],
   "source": [
    "mol_list[0]"
   ]
  },
  {
   "cell_type": "markdown",
   "metadata": {},
   "source": [
    "## Write input files for conformers"
   ]
  },
  {
   "cell_type": "code",
   "execution_count": null,
   "metadata": {},
   "outputs": [],
   "source": [
    "base_filename = input_sdf_path.stem\n",
    "xtb_directory = Path.cwd().joinpath(f\"{base_filename}_xtbopt\")\n",
    "print(f\"Write {len(mol_list)} input file at {xtb_directory} using {base_filename} as base name\")"
   ]
  },
  {
   "cell_type": "markdown",
   "metadata": {},
   "source": [
    "Seperate input file as in sdf format is created for xTB based geometry optimization"
   ]
  },
  {
   "cell_type": "code",
   "execution_count": null,
   "metadata": {},
   "outputs": [],
   "source": [
    "# create xtbopt directory\n",
    "xtb_directory.mkdir(parents=True, exist_ok=True)\n",
    "\n",
    "molname_to_xyz = {}\n",
    "molname_to_id = {}\n",
    "for mol_id, mol in enumerate(mol_list, start=1):\n",
    "    if (mol.GetNumConformers() > 0 and mol.GetConformer().Is3D() == True):\n",
    "        # Get the first conformer\n",
    "        conformer = mol.GetConformer()\n",
    "        mol_name = f\"{base_filename}_{mol_id}\"\n",
    "        file_path = xtb_directory.joinpath(f\"{mol_name}.sdf\")\n",
    "        # Write sdf file \n",
    "        with Chem.SDWriter(str(file_path)) as w:\n",
    "            cp_mol = Chem.Mol(mol)\n",
    "            for conf in mol.GetConformers():\n",
    "                cp_mol.SetProp(\"mol_name\",mol_name)\n",
    "                w.write(cp_mol, confId=conf.GetId())\n",
    "        \n",
    "        molname_to_xyz[mol_name]=file_path\n",
    "        molname_to_id[mol_name] = mol_id\n",
    "    else:\n",
    "        print(f\"{mol_id} mol don't have proper coordinates\")"
   ]
  },
  {
   "cell_type": "markdown",
   "metadata": {},
   "source": [
    "## Run xTB for for geometry optimization"
   ]
  },
  {
   "cell_type": "code",
   "execution_count": null,
   "metadata": {},
   "outputs": [],
   "source": [
    "for mol_name, input_file_path in molname_to_xyz.items():\n",
    "    print(mol_name, input_file_path)\n",
    "    try:\n",
    "        command = f\"cd {input_file_path.parent}; xtb {input_file_path} --opt tight --namespace {input_file_path.stem} > {input_file_path.with_suffix(\".out\")}\"\n",
    "        result = subprocess.run(command, shell=True, capture_output=True, text=True)\n",
    "        # Print the result\n",
    "        print(result.stdout)\n",
    "    except subprocess.CalledProcessError as e:\n",
    "        print(f\"Command failed with error: {e.stderr}\")"
   ]
  },
  {
   "cell_type": "markdown",
   "metadata": {},
   "source": [
    "# Post Process xTB\n",
    "## Read Output SDF file"
   ]
  },
  {
   "cell_type": "code",
   "execution_count": null,
   "metadata": {},
   "outputs": [],
   "source": [
    "# xtbopt sdf path\n",
    "xtbopt_sdf_path = input_sdf_path.with_stem(f\"{input_sdf_path.stem}_xtbopt\")\n",
    "xtbopt_sdf_path"
   ]
  },
  {
   "cell_type": "code",
   "execution_count": null,
   "metadata": {},
   "outputs": [],
   "source": [
    "# Write xTB opt geometries to SDF File\n",
    "with Chem.SDWriter(str(xtbopt_sdf_path)) as w:\n",
    "    for mol_name, input_file_path in molname_to_xyz.items():\n",
    "        output_file = input_file_path.with_suffix(\".xtbopt.sdf\")\n",
    "        # Read Input Mol\n",
    "        input_mol = sdf_to_mol_list(input_file_path)[0]    \n",
    "        # Read Output SDF File\n",
    "        if output_file.is_file():\n",
    "            opt_mol_list = sdf_to_mol_list(output_file)\n",
    "            opt_mol = opt_mol_list[0]\n",
    "            # Extract energy from title\n",
    "            title = opt_mol.GetProp(\"_Name\")\n",
    "            if \"energy:\" in title:\n",
    "                try:\n",
    "                    # Regular expression pattern to match the number after 'energy:'\n",
    "                    match = re.search(r'energy:\\s*(-?\\d+\\.\\d+)', title)\n",
    "                    if match:\n",
    "                        energy_value = match.group(1)  # Extract the matched number\n",
    "                        print(f\"{mol_name} Extracted value: {energy_value}\")\n",
    "    \n",
    "                        # # Update output mol\n",
    "                        for key, value in input_mol.GetPropsAsDict().items():\n",
    "                            # print(f\" {key}:{type(key)}, {value}:{type(value)}\")\n",
    "                            opt_mol.SetProp(key, str(value))\n",
    "    \n",
    "                        # Add Energy\n",
    "                        opt_mol.SetProp(\"xtb_energy\", str(energy_value))\n",
    "                        w.write(opt_mol)\n",
    "                    else:\n",
    "                        print(\"No match found.\")\n",
    "                except re.error as e:  # Handle invalid regular expression error\n",
    "                    print(f\"Regular expression error: {e}\")\n",
    "                except Exception as e:  # Handle any other kind of exception\n",
    "                    print(f\"An error occurred: {e}\")        \n",
    "        else:\n",
    "            print(f\"Output file not found {output_file}\")"
   ]
  },
  {
   "cell_type": "markdown",
   "metadata": {},
   "source": [
    "## Remove duplicates"
   ]
  },
  {
   "cell_type": "code",
   "execution_count": null,
   "metadata": {},
   "outputs": [],
   "source": [
    "xtbopt_mol_list = sdf_to_mol_list(xtbopt_sdf_path)\n",
    "xtbopt_mol_list[0]"
   ]
  },
  {
   "cell_type": "markdown",
   "metadata": {},
   "source": [
    "### Extract energy data from xtb opt mol list"
   ]
  },
  {
   "cell_type": "code",
   "execution_count": null,
   "metadata": {},
   "outputs": [],
   "source": [
    "# create numpy arrary of conf_id and energy.\n",
    "conf_data = []\n",
    "mol_name_to_id = {}\n",
    "# xtbopt_mol_list contain all the optimized conformer as molecule\n",
    "# Code below going to assing each entry a numerical id.\n",
    "for mol_id, xtbopt_mol in enumerate(xtbopt_mol_list, start=1):\n",
    "    keys = list(xtbopt_mol.GetPropNames())\n",
    "    if (\"xtb_energy\" in keys and \"mol_name\" in keys):\n",
    "        mol_name_to_id[xtbopt_mol.GetProp(\"mol_name\")] = mol_id\n",
    "        conf_data.append([mol_id, float(xtbopt_mol.GetProp(\"xtb_energy\"))])\n",
    "    else:\n",
    "        print(f\"xtb_energy and mol_name not found in {mol_id} molecule in list\")\n",
    "data = np.array(conf_data)\n",
    "# Sort array based on energy (unit kcal/mol, higher number is lower overall energy)\n",
    "sorted_eng = data[data[:, 1].argsort()]\n",
    "sorted_eng"
   ]
  },
  {
   "cell_type": "code",
   "execution_count": null,
   "metadata": {},
   "outputs": [],
   "source": [
    "mol_withoutH_dict = {}\n",
    "mol_dict = {}\n",
    "mol_id_to_name = {}\n",
    "for mol_id,xtbopt_mol in enumerate(xtbopt_mol_list, start=1):\n",
    "    mol_withoutH_dict[mol_id] = Chem.RemoveHs(xtbopt_mol)\n",
    "    mol_dict[mol_id] = xtbopt_mol\n",
    "    mol_id_to_name[mol_id] = xtbopt_mol.GetProp(\"mol_name\")\n",
    "print(f\"Number of Conformers: {len(mol_withoutH_dict)}\")\n",
    "# mol_withoutH_dict[4]"
   ]
  },
  {
   "cell_type": "markdown",
   "metadata": {},
   "source": [
    "### Filter Conformer Based on Energy & RMSD"
   ]
  },
  {
   "cell_type": "code",
   "execution_count": null,
   "metadata": {},
   "outputs": [],
   "source": [
    "hartree_to_kcal_per_mol =  627.5 #One hartree is equal to 627.5 kilocalories per mole (kcal/mol)\n",
    "energy_cutoff = 0.00031873 # 0.2 kcal in Hartree\n",
    "rmsd_cutoff = 0.2 "
   ]
  },
  {
   "cell_type": "code",
   "execution_count": null,
   "metadata": {},
   "outputs": [],
   "source": [
    "# Initialized Unique conformer list with lowest energy conformer.\n",
    "unique_confs = np.array([sorted_eng[0]])\n",
    "unique_confs\n",
    "\n",
    "# Loop over conformers with increasing energy\n",
    "for conf_data in sorted_eng[1:]:\n",
    "    # print(\"Processing\", conf_data[0], conf_data[1])\n",
    "    unique=True\n",
    "    # Check existing list of unique conformers.\n",
    "    for existing_conf in unique_confs:\n",
    "        # print(f\"checking {existing_conf[0]} - {existing_conf[1]}: {abs(float(existing_conf[1]) - float(conf_data[1]))}\")\n",
    "        if abs(float(existing_conf[1]) - float(conf_data[1])) > energy_cutoff:\n",
    "            rmsd_diff = AllChem.GetBestRMS(mol_withoutH_dict[int(conf_data[0])], mol_withoutH_dict[int(existing_conf[0])])\n",
    "            # print(f\" Enery & RMSD differences {conf_data[0]} - {existing_conf[0]}: {abs(existing_conf[1] - conf_data[1])}, {rmsd_diff}\")\n",
    "            if rmsd_diff < rmsd_cutoff:\n",
    "                print(f\"Iso-geometric duplicate to {existing_conf[0]}, removing {conf_data[0]}\")\n",
    "                unique=False\n",
    "                break\n",
    "        else:\n",
    "            print(f\"Iso-energetics duplicate to {existing_conf[0]}, removing {conf_data[0]}\")\n",
    "            unique=False\n",
    "            break\n",
    "    if unique:\n",
    "        unique_confs = np.vstack([unique_confs, conf_data])\n",
    "        # print(f\"Added {conf_data[0]} to {unique_confs}\")\n",
    "    \n",
    "    # if int(conf_data[0]) == 11:\n",
    "    #     break\n",
    "unique_confs"
   ]
  },
  {
   "cell_type": "code",
   "execution_count": null,
   "metadata": {},
   "outputs": [],
   "source": [
    "# Add the new relative energy column to the array\n",
    "unique_conf_releng = np.column_stack((unique_confs , ((unique_confs[:,-1] - unique_confs[:,-1].min()) * hartree_to_kcal_per_mol)))\n",
    "unique_conf_releng"
   ]
  },
  {
   "cell_type": "markdown",
   "metadata": {},
   "source": [
    "### Re-Align Conformers To Global Minima"
   ]
  },
  {
   "cell_type": "code",
   "execution_count": null,
   "metadata": {},
   "outputs": [],
   "source": [
    "rmsd_list = []\n",
    "for row_id, row in enumerate(unique_conf_releng):\n",
    "    if row_id == 0:\n",
    "        ref_mol =  mol_withoutH_dict[row[0]]\n",
    "        rmsd_list.append(0)\n",
    "    else:\n",
    "        prb_mol = mol_withoutH_dict[row[0]]\n",
    "        rmsd, transfrom_mat, best_atom_map = Chem.rdMolAlign.GetBestAlignmentTransform(prb_mol, ref_mol)\n",
    "        rmsd_list.append(rmsd)\n",
    "        # Get molecule with hydrogen\n",
    "        prb_molH = mol_dict[row[0]]\n",
    "        # Apply transform matrix\n",
    "        AllChem.TransformMol(prb_molH, transfrom_mat)"
   ]
  },
  {
   "cell_type": "code",
   "execution_count": null,
   "metadata": {},
   "outputs": [],
   "source": [
    "unique_conf_releng_rmsd = np.column_stack((unique_conf_releng , rmsd_list))\n",
    "unique_conf_releng_rmsd"
   ]
  },
  {
   "cell_type": "code",
   "execution_count": null,
   "metadata": {},
   "outputs": [],
   "source": [
    "ref_molH = mol_dict[16]\n",
    "prb_molH = mol_dict[38]\n",
    "draw_overlapped_mols([prb_molH, ref_molH], prop_name=\"mol_name\")"
   ]
  },
  {
   "cell_type": "markdown",
   "metadata": {},
   "source": [
    "## Write Unique Conformer To SDF File"
   ]
  },
  {
   "cell_type": "code",
   "execution_count": null,
   "metadata": {},
   "outputs": [],
   "source": [
    "# xtbopt sdf path\n",
    "xtbunique_sdf_path = input_sdf_path.with_stem(f\"{input_sdf_path.stem}_xtbunique\")\n",
    "\n",
    "with Chem.SDWriter(str(xtbunique_sdf_path)) as w:\n",
    "    for row in unique_conf_releng_rmsd:\n",
    "        print(f\"writing: {row}\")\n",
    "        opt_mol = mol_dict[int(row[0])]\n",
    "        opt_mol.SetProp(\"Rel_dE_kcal\", str(round(row[-2],2)))\n",
    "        opt_mol.SetProp(\"RMSD_To_GM\", str(round(row[-1],2)))        \n",
    "        w.write(opt_mol)"
   ]
  },
  {
   "cell_type": "markdown",
   "metadata": {},
   "source": [
    "# Write xyz"
   ]
  },
  {
   "cell_type": "code",
   "execution_count": null,
   "metadata": {},
   "outputs": [],
   "source": [
    "# create xyz directory\n",
    "xyz_dir = Path.cwd().joinpath(\"xyz_xtbopt\")\n",
    "xyz_dir.mkdir(parents=True, exist_ok=True)\n",
    "\n",
    "# Reading SDF File\n",
    "unique_mol_list = sdf_to_mol_list(xtbunique_sdf_path)\n",
    "print(f\" Read {len(unique_mol_list)} entry\")\n",
    "\n",
    "\n",
    "for mol_id, mol in enumerate(unique_mol_list, start=1):\n",
    "    if (mol.GetNumConformers() > 0 and mol.GetConformer().Is3D() == True):\n",
    "        # Get the first conformer\n",
    "        conformer = mol.GetConformer()\n",
    "        mol_name = mol.GetProp(\"mol_name\")\n",
    "        file_path = xyz_dir.joinpath(f\"{mol_name}.xyz\")\n",
    "        # Open the file for writing xyz\n",
    "        with open(str(file_path), 'w') as xyz_file:\n",
    "            # Write the number of atoms\n",
    "            num_atoms = mol.GetNumAtoms()\n",
    "            xyz_file.write(f\"{num_atoms}\\n\")\n",
    "            # Write a comment line (can be empty or some info)\n",
    "            xyz_file.write(f\"{file_path.stem}\\n\")\n",
    "            # Loop over atoms and extract atomic symbols and coordinates\n",
    "            for atom in mol.GetAtoms():\n",
    "                pos = conformer.GetAtomPosition(atom.GetIdx())\n",
    "                symbol = atom.GetSymbol()\n",
    "                xyz_file.write(f\"{symbol:<3} {pos.x:>10.4f} {pos.y:>10.4f} {pos.z:>10.4f}\\n\")\n",
    "    else:\n",
    "        print(f\"{mol_id} mol don't have proper coordinates\")"
   ]
  },
  {
   "cell_type": "markdown",
   "metadata": {},
   "source": [
    "# Write CSV File"
   ]
  },
  {
   "cell_type": "code",
   "execution_count": null,
   "metadata": {},
   "outputs": [],
   "source": [
    "# Add names:\n",
    "unique_mol_name = [ mol_id_to_name[row[0]] for row in unique_conf_releng_rmsd]\n",
    "# unique_mol_name\n",
    "unique_conf_data = np.column_stack((unique_conf_releng , unique_mol_name))\n",
    "unique_conf_data"
   ]
  },
  {
   "cell_type": "markdown",
   "metadata": {},
   "source": [
    "# Pandas Tools RDKit"
   ]
  },
  {
   "cell_type": "code",
   "execution_count": null,
   "metadata": {},
   "outputs": [],
   "source": [
    "import pandas as pd\n",
    "from rdkit.Chem import PandasTools"
   ]
  },
  {
   "cell_type": "code",
   "execution_count": null,
   "metadata": {},
   "outputs": [],
   "source": [
    "xtbunique_sdf_path=Path.cwd().joinpath(\"test_mol_xtbunique.sdf\")"
   ]
  },
  {
   "cell_type": "code",
   "execution_count": null,
   "metadata": {},
   "outputs": [],
   "source": [
    "frame = PandasTools.LoadSDF(xtbunique_sdf_path)\n",
    "frame"
   ]
  },
  {
   "cell_type": "code",
   "execution_count": null,
   "metadata": {},
   "outputs": [],
   "source": [
    "unique_conf_df = frame[[\"mol_name\", \"xtb_energy\", \"Rel_dE_kcal\", \"RMSD_To_GM\"]]\n",
    "unique_conf_df.to_csv(\"unique_conformers.csv\")"
   ]
  },
  {
   "cell_type": "code",
   "execution_count": null,
   "metadata": {},
   "outputs": [],
   "source": []
  }
 ],
 "metadata": {
  "celltoolbar": "Edit Metadata",
  "kernelspec": {
   "display_name": "Python 3 (ipykernel)",
   "language": "python",
   "name": "python3"
  },
  "language_info": {
   "codemirror_mode": {
    "name": "ipython",
    "version": 3
   },
   "file_extension": ".py",
   "mimetype": "text/x-python",
   "name": "python",
   "nbconvert_exporter": "python",
   "pygments_lexer": "ipython3",
   "version": "3.12.7"
  },
  "toc": {
   "base_numbering": 1,
   "nav_menu": {},
   "number_sections": true,
   "sideBar": true,
   "skip_h1_title": false,
   "title_cell": "Table of Contents",
   "title_sidebar": "Contents",
   "toc_cell": false,
   "toc_position": {},
   "toc_section_display": true,
   "toc_window_display": false
  }
 },
 "nbformat": 4,
 "nbformat_minor": 4
}
