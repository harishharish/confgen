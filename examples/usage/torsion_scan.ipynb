{
 "cells": [
  {
   "cell_type": "markdown",
   "id": "d60c9c08-00ce-4764-ba9d-fba6e66a4a81",
   "metadata": {},
   "source": [
    "# Torsion angle scan with rdkit & xtb [Spinning Coral]"
   ]
  },
  {
   "cell_type": "markdown",
   "id": "39d1fa13-a901-4756-a9a2-fb34f5ef1df4",
   "metadata": {},
   "source": [
    "## Include project directory into Python path"
   ]
  },
  {
   "cell_type": "code",
   "execution_count": null,
   "id": "f9351bfc-a932-476d-9e78-d34f34f40aff",
   "metadata": {},
   "outputs": [],
   "source": [
    "import sys\n",
    "import os\n",
    "\n",
    "# Get the absolute path of the project root (where the src folder is)\n",
    "project_root = os.path.abspath(os.path.join(os.getcwd(), \"../..\"))\n",
    "src_path = os.path.join(project_root, \"src\")\n",
    "\n",
    "# Add the src folder to sys.path\n",
    "if src_path not in sys.path:\n",
    "    sys.path.append(src_path)"
   ]
  },
  {
   "cell_type": "code",
   "execution_count": null,
   "id": "c2e4a879-0cf4-4b3b-96c5-47176ca618b7",
   "metadata": {},
   "outputs": [],
   "source": [
    "import rdkit\n",
    "from rdkit import Chem\n",
    "from rdkit.Chem import AllChem\n",
    "from rdkit.Chem import rdMolTransforms\n",
    "import copy\n",
    "import pandas as pd\n",
    "from rdkit.Chem import rdForceFieldHelpers\n",
    "from rdkit.Chem import ChemicalForceFields\n",
    "from rdkit.Chem import rdMolTransforms\n",
    "from pathlib import Path\n",
    "\n",
    "import subprocess\n",
    "import re"
   ]
  },
  {
   "cell_type": "code",
   "execution_count": null,
   "id": "dedc9622-a098-4116-93b5-83f2e958b81d",
   "metadata": {},
   "outputs": [],
   "source": [
    "from rdkit.Chem.Draw import IPythonConsole\n",
    "IPythonConsole.drawOptions.addAtomIndices = True\n",
    "IPythonConsole.ipython_3d=True"
   ]
  },
  {
   "cell_type": "code",
   "execution_count": null,
   "id": "ef64162a-d859-49be-906b-bd7dcff91b0b",
   "metadata": {},
   "outputs": [],
   "source": [
    "%load_ext autoreload\n",
    "%autoreload 2\n",
    "from confgen import example_function\n",
    "from confgen.io.reader.sdf import sdf_to_mol_list\n",
    "from confgen.widgets.mol_visulization import draw_overlapped_mols"
   ]
  },
  {
   "cell_type": "code",
   "execution_count": null,
   "id": "57551e5e-bd0c-404f-a492-f7e12613f88b",
   "metadata": {},
   "outputs": [],
   "source": [
    "import matplotlib.pyplot as plt\n",
    "import seaborn as sns"
   ]
  },
  {
   "cell_type": "markdown",
   "id": "c7bad174-4ac7-43de-9d6b-dc3e672cd9b9",
   "metadata": {},
   "source": [
    "# Generate Molecule From SMILES"
   ]
  },
  {
   "cell_type": "code",
   "execution_count": null,
   "id": "f1e647a7-82f3-4387-b54f-55edbccc3dd4",
   "metadata": {},
   "outputs": [],
   "source": [
    "from jsme_notebook import JSMENotebook\n",
    "# Use JSME To Draw Molecule and Copy SMILES\n",
    "jsme = JSMENotebook()"
   ]
  },
  {
   "cell_type": "code",
   "execution_count": null,
   "id": "668da4ce-80d4-4bc4-bf7d-0cee3619f9d4",
   "metadata": {},
   "outputs": [],
   "source": [
    "smiles=\"CCCC\"\n",
    "mol = Chem.MolFromSmiles(smiles)\n",
    "mol = AllChem.AddHs(mol)\n",
    "print(f\"Coordinates:{\"3D\" if (mol.GetNumConformers() > 0 and mol.GetConformer().Is3D() == True) else \"2D\"}, Number of Conformers: {mol.GetNumConformers()}\")\n",
    "mol"
   ]
  },
  {
   "cell_type": "code",
   "execution_count": null,
   "id": "2f90a2d8-048e-4b5c-93c2-685cbeeb6db1",
   "metadata": {},
   "outputs": [],
   "source": [
    "AllChem.EmbedMolecule(mol)\n",
    "print(f\"Coordinates:{\"3D\" if (mol.GetNumConformers() > 0 and mol.GetConformer().Is3D() == True) else \"2D\"}, Number of Conformers: {mol.GetNumConformers()}\")\n",
    "print(f\"Initial angle: {rdMolTransforms.GetDihedralDeg(mol.GetConformer(),0,1,2,3)}\")\n",
    "mol"
   ]
  },
  {
   "cell_type": "code",
   "execution_count": null,
   "id": "1f46ffb9-486a-48c1-8e1b-5447560b484a",
   "metadata": {},
   "outputs": [],
   "source": [
    "# Create a copy of original mol\n",
    "m2=copy.deepcopy(mol)\n",
    "# Get Force Field Parameters for ligand\n",
    "mp2 = AllChem.MMFFGetMoleculeProperties(m2)\n",
    "\n",
    "# Setup Dihedral Scan Range\n",
    "energy=[]\n",
    "confid=0\n",
    "angles=range(-180,180,5)"
   ]
  },
  {
   "cell_type": "code",
   "execution_count": null,
   "id": "c9cc16e5-eb42-4a4a-b3c6-e58e3ce9fefc",
   "metadata": {},
   "outputs": [],
   "source": [
    "for angle in angles:\n",
    "    confid+=1\n",
    "    ff2 = AllChem.MMFFGetMoleculeForceField(m2, mp2)\n",
    "    # Specify atom to screen\n",
    "    ff2.MMFFAddTorsionConstraint(0,1,2,3, False, angle - .2, angle + .2, 1000.0)\n",
    "    ff2.Minimize()\n",
    "    energy.append(ff2.CalcEnergy())\n",
    "\n",
    "    xyz=ff2.Positions()\n",
    "    new_conf = Chem.Conformer(mol.GetNumAtoms())\n",
    "    for i in range(mol.GetNumAtoms()):\n",
    "        new_conf.SetAtomPosition(i, (m2.GetConformer(-1).GetAtomPosition(i)))\n",
    "    new_conf.SetId(confid)\n",
    "    mol.AddConformer(new_conf)\n",
    "\n",
    "\n",
    "df_rdkit = pd.DataFrame({'angle':angles, 'mmff_energy':energy})\n",
    "print(f\"Coordinates:{\"3D\" if (mol.GetNumConformers() > 0 and mol.GetConformer().Is3D() == True) else \"2D\"}, Number of Conformers: {mol.GetNumConformers()}\")"
   ]
  },
  {
   "cell_type": "code",
   "execution_count": null,
   "id": "c16ace7b-7aab-4bbb-bba7-34e0d6d46260",
   "metadata": {},
   "outputs": [],
   "source": [
    "dfrdkit.plot( x=\"angle\", y=\"mmff_energy\")"
   ]
  },
  {
   "cell_type": "markdown",
   "id": "129c3f1c-b594-4b75-980d-4479e1a05f78",
   "metadata": {},
   "source": [
    "# xTB Torsion Scan"
   ]
  },
  {
   "cell_type": "code",
   "execution_count": null,
   "id": "cdc8aedc-951b-4c9a-a8fe-e58fa845ad80",
   "metadata": {},
   "outputs": [],
   "source": [
    "smiles=\"CCCC\"\n",
    "mol = Chem.MolFromSmiles(smiles)\n",
    "mol = AllChem.AddHs(mol)\n",
    "AllChem.EmbedMolecule(mol)\n",
    "mol"
   ]
  },
  {
   "cell_type": "code",
   "execution_count": null,
   "id": "ce1fdf3a-f12b-4810-834e-ad29d50b83db",
   "metadata": {},
   "outputs": [],
   "source": [
    "angles=range(-180,180,5)"
   ]
  },
  {
   "cell_type": "code",
   "execution_count": null,
   "id": "cf6f08b6-14be-4bea-b36e-a9afa17328ae",
   "metadata": {},
   "outputs": [],
   "source": [
    "mol_name=\"butane\"\n",
    "w_dir = Path.cwd().joinpath(\"torsion_scan\")\n",
    "w_dir.mkdir(parents=True, exist_ok=True)\n",
    "w_dir"
   ]
  },
  {
   "cell_type": "code",
   "execution_count": null,
   "id": "142cac49-7abe-46a1-89ed-88d86259f4c9",
   "metadata": {},
   "outputs": [],
   "source": [
    "## Prepare xtb geom\n",
    "rdkit_atoms_index=\"0,1,2,3\"\n",
    "xtb_atoms_index='1,2,3,4' #set atoms to define the dihedral - NB: xtb indexes start at 1, rdkit at 0\n",
    "for idx,deg in enumerate(angles):\n",
    "    print(idx, deg)\n",
    "    \n",
    "    # Write constraint file\n",
    "    const_mark = f\"p{abs(deg)}\" if deg <= 0 else f\"n{abs(deg)}\"\n",
    "    with open(w_dir.joinpath(f\"dih_const_{const_mark}.inp\"),\"w\") as fh:\n",
    "        fh.write(f\"$constrain\\nforce constant=1.0\\ndihedral: {xtb_atoms_index},{float(deg)}\\n$end\\n\")\n",
    "    \n",
    "    # Now write the xtb input file:\n",
    "    if idx == 0:\n",
    "        input_file_path = w_dir.joinpath(f\"{mol_name}_initial_geom.sdf\")\n",
    "        output_file_path = w_dir.joinpath(f\"{mol_name}_{const_mark}.out\")\n",
    "        # ToDo: generate mol can be contrain to specific dihedral and pre-optimized using FF\n",
    "        with Chem.SDWriter(str(input_file_path)) as sdf_w:\n",
    "            sdf_w.write(mol)\n",
    "    else:\n",
    "        input_file_path = output_file_path.with_name(f\"{output_file_path.stem}.xtbopt.sdf\")\n",
    "        if input_file_path.is_file():\n",
    "            output_file_path = w_dir.joinpath(f\"{mol_name}_{const_mark}.out\")\n",
    "        else:\n",
    "            print(f\"Failed to find {input_file_path}.\")\n",
    "            break\n",
    "\n",
    "    # Run xTB Opt.\n",
    "    try:\n",
    "        command = f\"cd {w_dir}; xtb {input_file_path} --opt tight --namespace {output_file_path.stem} --input dih_const_{const_mark}.inp > {output_file_path}\"\n",
    "        result = subprocess.run(command, shell=True, capture_output=True, text=True)\n",
    "        # Print the result\n",
    "        print(result.stdout)\n",
    "    except subprocess.CalledProcessError as e:\n",
    "        print(f\"Command failed with error: {e.stderr}\")\n",
    "        \n",
    "    # if idx==3:\n",
    "    #     break"
   ]
  },
  {
   "cell_type": "code",
   "execution_count": null,
   "id": "9f0c97ed-8000-493b-a972-ed94dd000ff0",
   "metadata": {},
   "outputs": [],
   "source": [
    "mol_dict = {}\n",
    "energies = []\n",
    "for idx,deg in enumerate(angles):\n",
    "    # Write constraint file\n",
    "    const_mark = f\"p{abs(deg)}\" if deg <= 0 else f\"n{abs(deg)}\"\n",
    "    output_sdf_path = w_dir.joinpath(f\"{mol_name}_{const_mark}.xtbopt.sdf\")\n",
    "    # print(const_mark, output_sdf_path)\n",
    "    xtb_opt_mol = sdf_to_mol_list(output_sdf_path)[0]\n",
    "\n",
    "    # Extract energy from title\n",
    "    title = xtb_opt_mol.GetProp(\"_Name\")\n",
    "    match = re.search(r'energy:\\s*(-?\\d+\\.\\d+)', title)\n",
    "    energy_value = match.group(1)  # Extract the matched number\n",
    "    # print(f\"{deg} Extracted value: {energy_value}\")\n",
    "    energies.append([int(deg), float(energy_value)])\n",
    "    # break\n",
    "\n",
    "print(energies)"
   ]
  },
  {
   "cell_type": "code",
   "execution_count": null,
   "id": "e80e833c-ce5e-4555-9f9d-fec78ffd20d0",
   "metadata": {},
   "outputs": [],
   "source": [
    "df_xtb = pd.DataFrame(energies, columns = [\"angle\", \"xtb_energy\"])\n",
    "df_xtb.plot( x=\"angle\", y=\"xtb_energy\")"
   ]
  },
  {
   "cell_type": "code",
   "execution_count": null,
   "id": "33a745bc-e7b4-450e-9fbc-4d24735947fa",
   "metadata": {},
   "outputs": [],
   "source": [
    "sns.lineplot(x=\"angle\",y=\"xtb_energy\",data=df_xtb, color=\"g\")\n",
    "ax2 = plt.twinx()\n",
    "sns.lineplot(x=\"angle\",y=\"mmff_energy\",data=dfrdkit, color=\"b\", ax=ax2)"
   ]
  },
  {
   "cell_type": "markdown",
   "id": "9eb47f40-752d-4414-9b91-1489ad1bbeec",
   "metadata": {},
   "source": [
    "# Resources\n",
    "\n",
    "- [Crystallography Open Database](https://www.crystallography.net/cod/index.php)"
   ]
  },
  {
   "cell_type": "markdown",
   "id": "38b23443-832e-4ff1-83c4-6eaf6a66d6b2",
   "metadata": {},
   "source": [
    "# Inspiration\n",
    "\n",
    "- [Spinning coral](https://pschmidtke.github.io/blog/posts/post-with-code/2021-01-25-cod-and-torsion-angles/2021-01-25-cod-and-torsion-angles.html)"
   ]
  },
  {
   "cell_type": "code",
   "execution_count": null,
   "id": "4bb52d66-9583-4c2f-998b-19742ca2b1b8",
   "metadata": {},
   "outputs": [],
   "source": []
  }
 ],
 "metadata": {
  "kernelspec": {
   "display_name": "Python 3 (ipykernel)",
   "language": "python",
   "name": "python3"
  },
  "language_info": {
   "codemirror_mode": {
    "name": "ipython",
    "version": 3
   },
   "file_extension": ".py",
   "mimetype": "text/x-python",
   "name": "python",
   "nbconvert_exporter": "python",
   "pygments_lexer": "ipython3",
   "version": "3.12.7"
  }
 },
 "nbformat": 4,
 "nbformat_minor": 5
}
